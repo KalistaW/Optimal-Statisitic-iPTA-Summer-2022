version https://git-lfs.github.com/spec/v1
oid sha256:9dfce23a018f157ab0093a61f92623a0f2adc3e03498ea51642fca342ed901d6
size 56612
