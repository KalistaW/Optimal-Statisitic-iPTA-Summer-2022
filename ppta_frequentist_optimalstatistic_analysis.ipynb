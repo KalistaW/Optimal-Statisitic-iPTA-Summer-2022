version https://git-lfs.github.com/spec/v1
oid sha256:88017a55426888272d9de8430516caca15c8698d030a7eb9cefc1989e96cf997
size 120080
