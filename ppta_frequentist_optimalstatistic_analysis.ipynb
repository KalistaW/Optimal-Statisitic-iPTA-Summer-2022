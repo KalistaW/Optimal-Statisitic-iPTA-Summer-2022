{
 "cells": [
  {
   "cell_type": "code",
   "execution_count": 1,
   "metadata": {},
   "outputs": [
    {
     "name": "stderr",
     "output_type": "stream",
     "text": [
      "WARNING: AstropyDeprecationWarning: The private astropy._erfa module has been made into its own package, pyerfa, which is a dependency of astropy and can be imported directly using \"import erfa\" [astropy._erfa]\n"
     ]
    }
   ],
   "source": [
    "from __future__ import (absolute_import, division,\n",
    "                        print_function, unicode_literals)\n",
    "import numpy as np\n",
    "import pickle\n",
    "import json\n",
    "import glob\n",
    "import os\n",
    "import cloudpickle\n",
    "\n",
    "import matplotlib.pyplot as plt\n",
    "%matplotlib inline\n",
    "\n",
    "from enterprise.signals import signal_base\n",
    "from enterprise.signals import gp_signals\n",
    "from enterprise.pulsar import Pulsar\n",
    "from enterprise.signals import parameter\n",
    "from enterprise.signals import gp_priors\n",
    "\n",
    "from enterprise_extensions import model_utils, blocks\n",
    "from enterprise_extensions import model_orfs\n",
    "from enterprise_extensions.frequentist import optimal_statistic as opt_stat\n",
    "from enterprise.signals import selections\n",
    "\n",
    "import h5py\n",
    "import la_forge.core as co"
   ]
  },
  {
   "cell_type": "code",
   "execution_count": 2,
   "metadata": {},
   "outputs": [],
   "source": [
    "with open('/Users/physics/nanogw/data/ppta_dr2.pkl','rb') as fin:\n",
    "    psrs=pickle.load(fin)"
   ]
  },
  {
   "cell_type": "code",
   "execution_count": 3,
   "metadata": {},
   "outputs": [
    {
     "name": "stdout",
     "output_type": "stream",
     "text": [
      "J0437-4715_ppta\n",
      "J0613-0200_ppta\n",
      "J0711-6830_ppta\n",
      "J1017-7156_ppta\n",
      "J1022+1001_ppta\n",
      "J1024-0719_ppta\n",
      "J1045-4509_ppta\n",
      "J1125-6014_ppta\n",
      "J1446-4701_ppta\n",
      "J1545-4550_ppta\n",
      "J1600-3053_ppta\n",
      "J1603-7202_ppta\n",
      "J1643-1224_ppta\n",
      "J1713+0747_ppta\n",
      "J1730-2304_ppta\n",
      "J1732-5049_ppta\n",
      "J1744-1134_ppta\n",
      "J1824-2452A_ppta\n",
      "J1832-0836_ppta\n",
      "J1857+0943_ppta\n",
      "J1909-3744_ppta\n",
      "J1939+2134_ppta\n",
      "J2124-3358_ppta\n",
      "J2129-5721_ppta\n",
      "J2145-0750_ppta\n",
      "J2241-5236_ppta\n"
     ]
    }
   ],
   "source": [
    "for p in psrs:\n",
    "    p.name=p.name+'_ppta'\n",
    "for p in psrs:\n",
    "    print(p.name)"
   ]
  },
  {
   "cell_type": "code",
   "execution_count": 4,
   "metadata": {},
   "outputs": [],
   "source": [
    "noisefile = '/Users/physics/nanogw/data/ppta_dr2_TN_noise.json'\n",
    "\n",
    "with open(noisefile, 'r') as f:\n",
    "    noisedict = json.load(f)"
   ]
  },
  {
   "cell_type": "code",
   "execution_count": 5,
   "metadata": {},
   "outputs": [],
   "source": [
    "noisedictcp=noisedict.copy()\n",
    "#for ky,val in noisedict.items():\n",
    "#    if 'equad'in ky and not 'tnequad' in ky:\n",
    "#        kynew=ky.replace('equad','tnequad')\n",
    "#        noisedictcp[kynew] = noisedict[ky]\n",
    "\n",
    "noisedictcp2=noisedictcp.copy()\n",
    "for ky,val in noisedictcp.items():\n",
    "    split=ky.split('_')\n",
    "    split.insert(1,'ppta')\n",
    "    kynew='_'.join(split)\n",
    "    noisedictcp2[kynew] = noisedictcp[ky]\n",
    "for ky,val in noisedictcp.items():\n",
    "    if ky in noisedictcp:\n",
    "        noisedictcp2.pop(ky)"
   ]
  },
  {
   "cell_type": "code",
   "execution_count": null,
   "metadata": {},
   "outputs": [],
   "source": [
    "'''\n",
    "#Run to save renamed files for ease\n",
    "noise=noisedictcp2\n",
    "# create a binary pickle file \n",
    "f = open(\"/Users/physics/nanogw/data/ppta_noise_params_renamed.pkl\",\"wb\")\n",
    "# write the python object (dict) to pickle file\n",
    "pickle.dump(noise,f)\n",
    "# close file\n",
    "f.close()\n",
    "'''"
   ]
  },
  {
   "cell_type": "code",
   "execution_count": null,
   "metadata": {},
   "outputs": [],
   "source": [
    "%%time\n",
    "# (Note: It may take a few minutes to run this cell and may require at least ~4GB RAM)\n",
    "# Initialize the optimal statistic object\n",
    "# You can give it a list of pulsars and the noise dictionary, and it will create the pta object for you\n",
    "# Alternatively, you can make the pta object yourself and give it to the OptimalStatistic object as an argument\n",
    "\n",
    "# find the maximum time span to set GW frequency sampling\n",
    "Tspan = model_utils.get_tspan(psrs)\n",
    "\n",
    "# Here we build the signal model\n",
    "# First we add the timing model\n",
    "s = gp_signals.TimingModel()\n",
    "\n",
    "# Then we add the white noise\n",
    "# There are three types of white noise: EFAC, EQUAD, \n",
    "# We use different white noise parameters for every backend/receiver combination\n",
    "# The white noise parameters are held constant\n",
    "#inc_ecorr======FALSE because ppta\n",
    "s += blocks.white_noise_block(vary=False, inc_ecorr=False, select='backend', tnequad=True)\n",
    "\n",
    "#DMGP\n",
    "dm = blocks.dm_noise_block(gp_kernel=\"diag\", psd=\"powerlaw\", components=100, Tspan=Tspan)\n",
    "\n",
    "# Next comes the individual pulsar red noise\n",
    "# We model the red noise as a Fourier series with 30 frequency components, \n",
    "# with a power-law PSD\n",
    "s += blocks.red_noise_block(prior='log-uniform', Tspan=Tspan, components=30)\n",
    "\n",
    "# Finally, we add the common red noise, which is modeled as a Fourier series with 5 frequency components\n",
    "# The common red noise has a power-law PSD with spectral index of 4.33\n",
    "s += blocks.common_red_noise_block(psd='powerlaw', prior='log-uniform', Tspan=Tspan, \n",
    "                                   components=5, gamma_val=4.33, name='gw')\n",
    "models=[]\n",
    "for p in psrs:\n",
    "    if p.name not in ['J0437-4715_ppta', 'J1713+0747_ppta', 'J0613-0200_ppta','J1017-7156_ppta','J1045-4509_ppta']:\n",
    "        models.append((s+dm)(p))\n",
    "    elif p.name=='J0437-4715_ppta':\n",
    "        models.append(s(p))\n",
    "#         models.append((s+dm+j0437dip)(p))\n",
    "    elif p.name=='J1713+0747_ppta':\n",
    "        models.append(s(p))\n",
    "#         models.append((s+dm+j1713dips)(p))\n",
    "    elif p.name in [ 'J0613-0200_ppta','J1017-7156_ppta','J1045-4509_ppta']:\n",
    "        models.append(s(p))\n",
    "# We set up the PTA object using the signal we defined above and the pulsars\n",
    "\n",
    "import cloudpickle\n",
    "with open('/Users/physics/nanogw/data/ppta_models.pkl','wb') as fout:\n",
    "    cloudpickle.dump(models,fout)\n",
    "\n",
    "\n",
    "\"\"\"\n",
    "pta = signal_base.PTA(models)\n",
    "\n",
    "# We need to set the white noise parameters to the values in the noise dictionary\n",
    "pta.set_default_params(noisedictcp2)\n",
    "\n",
    "ostat = opt_stat.OptimalStatistic(psrs, pta=pta, orf='hd')\n",
    "ostat_dip = opt_stat.OptimalStatistic(psrs, pta=pta, orf='dipole')\n",
    "ostat_mono = opt_stat.OptimalStatistic(psrs, pta=pta, orf='monopole')\n",
    "\"\"\""
   ]
  },
  {
   "cell_type": "code",
   "execution_count": null,
   "metadata": {},
   "outputs": [],
   "source": [
    "\"\"\"\n",
    "#Code to generate and save max likelihood parameters only need to run once\n",
    "#To get the files generated \n",
    "c0 = co.Core(chaindir='/Users/physics/nanogw/data/chains_ppta_dr2/')\n",
    "max_like=c0.get_map_dict()\n",
    "# create a binary pickle file \n",
    "f = open(\"/Users/physics/nanogw/data/ppta_ml_params.pkl\",\"wb\")\n",
    "# write the python object (dict) to pickle file\n",
    "pickle.dump(max_like,f)\n",
    "# close file\n",
    "f.close()\n",
    "\"\"\""
   ]
  },
  {
   "cell_type": "code",
   "execution_count": null,
   "metadata": {},
   "outputs": [],
   "source": [
    "c0 = co.Core(chaindir='/Users/physics/nanogw/data/chains_ppta_dr2/')"
   ]
  },
  {
   "cell_type": "code",
   "execution_count": null,
   "metadata": {},
   "outputs": [],
   "source": [
    "c0.get_map_dict()"
   ]
  },
  {
   "cell_type": "code",
   "execution_count": 11,
   "metadata": {},
   "outputs": [],
   "source": [
    "with open('/Users/physics/nanogw/data/ppta_models.pkl','rb') as fin:\n",
    "    ppta_models = cloudpickle.load(fin)"
   ]
  },
  {
   "cell_type": "code",
   "execution_count": 12,
   "metadata": {},
   "outputs": [
    {
     "data": {
      "text/plain": [
       "[enterprise.signals.signal_base.SignalCollection,\n",
       " enterprise.signals.signal_base.SignalCollection,\n",
       " enterprise.signals.signal_base.SignalCollection,\n",
       " enterprise.signals.signal_base.SignalCollection,\n",
       " enterprise.signals.signal_base.SignalCollection,\n",
       " enterprise.signals.signal_base.SignalCollection,\n",
       " enterprise.signals.signal_base.SignalCollection,\n",
       " enterprise.signals.signal_base.SignalCollection,\n",
       " enterprise.signals.signal_base.SignalCollection,\n",
       " enterprise.signals.signal_base.SignalCollection,\n",
       " enterprise.signals.signal_base.SignalCollection,\n",
       " enterprise.signals.signal_base.SignalCollection,\n",
       " enterprise.signals.signal_base.SignalCollection,\n",
       " enterprise.signals.signal_base.SignalCollection,\n",
       " enterprise.signals.signal_base.SignalCollection,\n",
       " enterprise.signals.signal_base.SignalCollection,\n",
       " enterprise.signals.signal_base.SignalCollection,\n",
       " enterprise.signals.signal_base.SignalCollection,\n",
       " enterprise.signals.signal_base.SignalCollection,\n",
       " enterprise.signals.signal_base.SignalCollection,\n",
       " enterprise.signals.signal_base.SignalCollection,\n",
       " enterprise.signals.signal_base.SignalCollection,\n",
       " enterprise.signals.signal_base.SignalCollection,\n",
       " enterprise.signals.signal_base.SignalCollection,\n",
       " enterprise.signals.signal_base.SignalCollection,\n",
       " enterprise.signals.signal_base.SignalCollection]"
      ]
     },
     "execution_count": 12,
     "metadata": {},
     "output_type": "execute_result"
    }
   ],
   "source": [
    "ppta_models"
   ]
  },
  {
   "cell_type": "code",
   "execution_count": 13,
   "metadata": {},
   "outputs": [
    {
     "ename": "TypeError",
     "evalue": "fd_system_selection_0() missing 2 required positional arguments: 'sys_flags' and 'sys_flagvals'",
     "output_type": "error",
     "traceback": [
      "\u001b[0;31m---------------------------------------------------------------------------\u001b[0m",
      "\u001b[0;31mTypeError\u001b[0m                                 Traceback (most recent call last)",
      "Cell \u001b[0;32mIn [13], line 3\u001b[0m\n\u001b[1;32m      1\u001b[0m full_model\u001b[38;5;241m=\u001b[39m[]\n\u001b[1;32m      2\u001b[0m \u001b[38;5;28;01mfor\u001b[39;00m m,psr \u001b[38;5;129;01min\u001b[39;00m \u001b[38;5;28mzip\u001b[39m(ppta_models,psrs):\n\u001b[0;32m----> 3\u001b[0m     full_model\u001b[38;5;241m.\u001b[39mappend(\u001b[43mm\u001b[49m\u001b[43m(\u001b[49m\u001b[43mpsr\u001b[49m\u001b[43m)\u001b[49m)\n",
      "File \u001b[0;32m~/opt/anaconda3/envs/nanogw/lib/python3.9/site-packages/enterprise/signals/signal_base.py:767\u001b[0m, in \u001b[0;36mSignalCollection.<locals>.SignalCollection.__init__\u001b[0;34m(self, psr)\u001b[0m\n\u001b[1;32m    765\u001b[0m \u001b[38;5;28mself\u001b[39m\u001b[38;5;241m.\u001b[39mpsrname \u001b[38;5;241m=\u001b[39m psr\u001b[38;5;241m.\u001b[39mname\n\u001b[1;32m    766\u001b[0m \u001b[38;5;66;03m# instantiate all the signals with a pulsar\u001b[39;00m\n\u001b[0;32m--> 767\u001b[0m \u001b[38;5;28mself\u001b[39m\u001b[38;5;241m.\u001b[39m_signals \u001b[38;5;241m=\u001b[39m [metasignal(psr) \u001b[38;5;28;01mfor\u001b[39;00m metasignal \u001b[38;5;129;01min\u001b[39;00m \u001b[38;5;28mself\u001b[39m\u001b[38;5;241m.\u001b[39m_metasignals]\n\u001b[1;32m    769\u001b[0m \u001b[38;5;28mself\u001b[39m\u001b[38;5;241m.\u001b[39m_residuals \u001b[38;5;241m=\u001b[39m psr\u001b[38;5;241m.\u001b[39mresiduals\n\u001b[1;32m    771\u001b[0m \u001b[38;5;28mself\u001b[39m\u001b[38;5;241m.\u001b[39m_set_cache_parameters()\n",
      "File \u001b[0;32m~/opt/anaconda3/envs/nanogw/lib/python3.9/site-packages/enterprise/signals/signal_base.py:767\u001b[0m, in \u001b[0;36m<listcomp>\u001b[0;34m(.0)\u001b[0m\n\u001b[1;32m    765\u001b[0m \u001b[38;5;28mself\u001b[39m\u001b[38;5;241m.\u001b[39mpsrname \u001b[38;5;241m=\u001b[39m psr\u001b[38;5;241m.\u001b[39mname\n\u001b[1;32m    766\u001b[0m \u001b[38;5;66;03m# instantiate all the signals with a pulsar\u001b[39;00m\n\u001b[0;32m--> 767\u001b[0m \u001b[38;5;28mself\u001b[39m\u001b[38;5;241m.\u001b[39m_signals \u001b[38;5;241m=\u001b[39m [\u001b[43mmetasignal\u001b[49m\u001b[43m(\u001b[49m\u001b[43mpsr\u001b[49m\u001b[43m)\u001b[49m \u001b[38;5;28;01mfor\u001b[39;00m metasignal \u001b[38;5;129;01min\u001b[39;00m \u001b[38;5;28mself\u001b[39m\u001b[38;5;241m.\u001b[39m_metasignals]\n\u001b[1;32m    769\u001b[0m \u001b[38;5;28mself\u001b[39m\u001b[38;5;241m.\u001b[39m_residuals \u001b[38;5;241m=\u001b[39m psr\u001b[38;5;241m.\u001b[39mresiduals\n\u001b[1;32m    771\u001b[0m \u001b[38;5;28mself\u001b[39m\u001b[38;5;241m.\u001b[39m_set_cache_parameters()\n",
      "File \u001b[0;32m~/opt/anaconda3/envs/nanogw/lib/python3.9/site-packages/enterprise/signals/deterministic_signals.py:24\u001b[0m, in \u001b[0;36mDeterministic.<locals>.Deterministic.__init__\u001b[0;34m(self, psr)\u001b[0m\n\u001b[1;32m     22\u001b[0m \u001b[38;5;28msuper\u001b[39m(Deterministic, \u001b[38;5;28mself\u001b[39m)\u001b[38;5;241m.\u001b[39m\u001b[38;5;21m__init__\u001b[39m(psr)\n\u001b[1;32m     23\u001b[0m \u001b[38;5;28mself\u001b[39m\u001b[38;5;241m.\u001b[39mname \u001b[38;5;241m=\u001b[39m \u001b[38;5;28mself\u001b[39m\u001b[38;5;241m.\u001b[39mpsrname \u001b[38;5;241m+\u001b[39m \u001b[38;5;124m\"\u001b[39m\u001b[38;5;124m_\u001b[39m\u001b[38;5;124m\"\u001b[39m \u001b[38;5;241m+\u001b[39m \u001b[38;5;28mself\u001b[39m\u001b[38;5;241m.\u001b[39msignal_id\n\u001b[0;32m---> 24\u001b[0m \u001b[38;5;28;43mself\u001b[39;49m\u001b[38;5;241;43m.\u001b[39;49m\u001b[43m_do_selection\u001b[49m\u001b[43m(\u001b[49m\u001b[43mpsr\u001b[49m\u001b[43m,\u001b[49m\u001b[43m \u001b[49m\u001b[43mwaveform\u001b[49m\u001b[43m,\u001b[49m\u001b[43m \u001b[49m\u001b[43mselection\u001b[49m\u001b[43m)\u001b[49m\n",
      "File \u001b[0;32m~/opt/anaconda3/envs/nanogw/lib/python3.9/site-packages/enterprise/signals/deterministic_signals.py:28\u001b[0m, in \u001b[0;36mDeterministic.<locals>.Deterministic._do_selection\u001b[0;34m(self, psr, waveform, selection)\u001b[0m\n\u001b[1;32m     26\u001b[0m \u001b[38;5;28;01mdef\u001b[39;00m \u001b[38;5;21m_do_selection\u001b[39m(\u001b[38;5;28mself\u001b[39m, psr, waveform, selection):\n\u001b[1;32m     27\u001b[0m     sel \u001b[38;5;241m=\u001b[39m selection(psr)\n\u001b[0;32m---> 28\u001b[0m     \u001b[38;5;28mself\u001b[39m\u001b[38;5;241m.\u001b[39m_keys \u001b[38;5;241m=\u001b[39m \u001b[38;5;28msorted\u001b[39m(\u001b[43msel\u001b[49m\u001b[38;5;241;43m.\u001b[39;49m\u001b[43mmasks\u001b[49m\u001b[38;5;241m.\u001b[39mkeys())\n\u001b[1;32m     29\u001b[0m     \u001b[38;5;28mself\u001b[39m\u001b[38;5;241m.\u001b[39m_masks \u001b[38;5;241m=\u001b[39m [sel\u001b[38;5;241m.\u001b[39mmasks[key] \u001b[38;5;28;01mfor\u001b[39;00m key \u001b[38;5;129;01min\u001b[39;00m \u001b[38;5;28mself\u001b[39m\u001b[38;5;241m.\u001b[39m_keys]\n\u001b[1;32m     30\u001b[0m     \u001b[38;5;28mself\u001b[39m\u001b[38;5;241m.\u001b[39m_delay \u001b[38;5;241m=\u001b[39m np\u001b[38;5;241m.\u001b[39mzeros(\u001b[38;5;28mlen\u001b[39m(psr\u001b[38;5;241m.\u001b[39mtoas))\n",
      "File \u001b[0;32m~/opt/anaconda3/envs/nanogw/lib/python3.9/site-packages/enterprise/signals/selections.py:63\u001b[0m, in \u001b[0;36mSelection.<locals>.Selection.masks\u001b[0;34m(self)\u001b[0m\n\u001b[1;32m     61\u001b[0m \u001b[38;5;129m@property\u001b[39m\n\u001b[1;32m     62\u001b[0m \u001b[38;5;28;01mdef\u001b[39;00m \u001b[38;5;21mmasks\u001b[39m(\u001b[38;5;28mself\u001b[39m):\n\u001b[0;32m---> 63\u001b[0m     \u001b[38;5;28;01mreturn\u001b[39;00m \u001b[43mselection_func\u001b[49m\u001b[43m(\u001b[49m\u001b[43mfunc\u001b[49m\u001b[43m)\u001b[49m\u001b[43m(\u001b[49m\u001b[43mpsr\u001b[49m\u001b[38;5;241;43m=\u001b[39;49m\u001b[38;5;28;43mself\u001b[39;49m\u001b[38;5;241;43m.\u001b[39;49m\u001b[43m_psr\u001b[49m\u001b[43m)\u001b[49m\n",
      "File \u001b[0;32m~/opt/anaconda3/envs/nanogw/lib/python3.9/site-packages/enterprise/signals/selections.py:49\u001b[0m, in \u001b[0;36mselection_func.<locals>.wrapper\u001b[0;34m(*args, **kwargs)\u001b[0m\n\u001b[1;32m     46\u001b[0m \u001b[38;5;28;01mif\u001b[39;00m \u001b[38;5;124m\"\u001b[39m\u001b[38;5;124mpsr\u001b[39m\u001b[38;5;124m\"\u001b[39m \u001b[38;5;129;01min\u001b[39;00m kwargs \u001b[38;5;129;01mand\u001b[39;00m \u001b[38;5;124m\"\u001b[39m\u001b[38;5;124mpsr\u001b[39m\u001b[38;5;124m\"\u001b[39m \u001b[38;5;129;01mnot\u001b[39;00m \u001b[38;5;129;01min\u001b[39;00m funcargs:\n\u001b[1;32m     47\u001b[0m     \u001b[38;5;28;01mdel\u001b[39;00m kwargs[\u001b[38;5;124m\"\u001b[39m\u001b[38;5;124mpsr\u001b[39m\u001b[38;5;124m\"\u001b[39m]\n\u001b[0;32m---> 49\u001b[0m \u001b[38;5;28;01mreturn\u001b[39;00m \u001b[43mfunc\u001b[49m\u001b[43m(\u001b[49m\u001b[38;5;241;43m*\u001b[39;49m\u001b[43mtargs\u001b[49m\u001b[43m,\u001b[49m\u001b[43m \u001b[49m\u001b[38;5;241;43m*\u001b[39;49m\u001b[38;5;241;43m*\u001b[39;49m\u001b[43mkwargs\u001b[49m\u001b[43m)\u001b[49m\n",
      "\u001b[0;31mTypeError\u001b[0m: fd_system_selection_0() missing 2 required positional arguments: 'sys_flags' and 'sys_flagvals'"
     ]
    }
   ],
   "source": [
    "full_model=[]\n",
    "for m,psr in zip(ppta_models,psrs):\n",
    "    full_model.append(m(psr))"
   ]
  },
  {
   "cell_type": "code",
   "execution_count": null,
   "metadata": {},
   "outputs": [],
   "source": [
    "# We set up the PTA object using the signal we defined above and the pulsars\n",
    "pta = signal_base.PTA([ppta_models(p) for p in psrs])"
   ]
  },
  {
   "cell_type": "code",
   "execution_count": null,
   "metadata": {},
   "outputs": [],
   "source": [
    "# We need to set the white noise parameters to the values in the noise dictionary\n",
    "pta.set_default_params(noisedictcp2)"
   ]
  },
  {
   "cell_type": "code",
   "execution_count": null,
   "metadata": {},
   "outputs": [],
   "source": [
    "# Load up the maximum-likelihood values for the pulsars' red noise parameters and the common red process\n",
    "# These values come from the results of a Bayesian search\n",
    "\n",
    "with open(\"/Users/physics/nanogw/data/ppta_ml_params.pkl\",'rb') as fin:\n",
    "    ml_params=pickle.load(fin)"
   ]
  },
  {
   "cell_type": "code",
   "execution_count": null,
   "metadata": {},
   "outputs": [],
   "source": [
    "ml_paramscp=ml_params.copy()\n",
    "for ky,val in ml_params.items():\n",
    "    split=ky.split('_')\n",
    "    split.insert(1,'ppta')\n",
    "    kynew='_'.join(split)\n",
    "    ml_paramscp[kynew] = ml_params[ky]\n",
    "for ky,val in ml_params.items():\n",
    "    if ky in ml_params:\n",
    "        ml_paramscp.pop(ky)\n",
    "ml_paramscp['gw_log10_A']=ml_paramscp['gw_ppta_log10_A']"
   ]
  },
  {
   "cell_type": "code",
   "execution_count": null,
   "metadata": {},
   "outputs": [],
   "source": [
    "'''\n",
    "#Run to save renamed files for ease\n",
    "ml=ml_paramscp\n",
    "# create a binary pickle file \n",
    "f = open(\"/Users/physics/nanogw/data/ppta_ml_params_renamed.pkl\",\"wb\")\n",
    "# write the python object (dict) to pickle file\n",
    "pickle.dump(ml,f)\n",
    "# close file\n",
    "f.close()\n",
    "'''"
   ]
  },
  {
   "cell_type": "code",
   "execution_count": null,
   "metadata": {},
   "outputs": [],
   "source": [
    "# Compute the optimal statistic\n",
    "# The optimal statistic returns five quantities:\n",
    "#  - xi: an array of the angular separations between the pulsar pairs (in radians)\n",
    "#  - rho: an array of the cross-correlations between the pulsar pairs\n",
    "#  - sig: an array of the uncertainty in the cross-correlations\n",
    "#  - OS: the value of the optimal statistic\n",
    "#  - OS_sig: the uncertainty in the optimal statistic\n",
    "\n",
    "xi, rho, sig, OS, OS_sig = ostat.compute_os(params=ml_paramscp) #HD\n",
    "print(OS, OS_sig, OS/OS_sig)\n",
    "\n",
    "_, _, _, OS_dip, OS_sig_dip = ostat_dip.compute_os(params=ml_paramscp) #Dipole\n",
    "print(OS_dip, OS_sig_dip, OS_dip/OS_sig_dip)\n",
    "\n",
    "_, _, _, OS_mono, OS_sig_mono = ostat_mono.compute_os(params=ml_paramscp) #Monopole \n",
    "print(OS_mono, OS_sig_mono, OS_mono/OS_sig_mono)"
   ]
  },
  {
   "cell_type": "code",
   "execution_count": null,
   "metadata": {},
   "outputs": [],
   "source": [
    "# Plot the cross-correlations and compare to the Hellings-Downs curve\n",
    "# Before plotting, we need to bin the cross-correlations\n",
    "\n",
    "def weightedavg(rho, sig):\n",
    "    weights, avg = 0., 0.\n",
    "    for r,s in zip(rho,sig):\n",
    "        weights += 1./(s*s)\n",
    "        avg += r/(s*s)\n",
    "        \n",
    "    return avg/weights, np.sqrt(1./weights)\n",
    "\n",
    "def bin_crosscorr(zeta, xi, rho, sig):\n",
    "    \n",
    "    rho_avg, sig_avg = np.zeros(len(zeta)), np.zeros(len(zeta))\n",
    "    \n",
    "    for i,z in enumerate(zeta[:-1]):\n",
    "        myrhos, mysigs = [], []\n",
    "        for x,r,s in zip(xi,rho,sig):\n",
    "            if x >= z and x < (z+10.):\n",
    "                myrhos.append(r)\n",
    "                mysigs.append(s)\n",
    "        rho_avg[i], sig_avg[i] = weightedavg(myrhos, mysigs)\n",
    "        \n",
    "    return rho_avg, sig_avg\n",
    "\n",
    "# sort the cross-correlations by xi\n",
    "idx = np.argsort(xi)\n",
    "\n",
    "xi_sorted = xi[idx]\n",
    "rho_sorted = rho[idx]\n",
    "sig_sorted = sig[idx]\n",
    "\n",
    "# bin the cross-correlations so that there are the same number of pairs per bin\n",
    "#number of pulsar correlations you want per bin\n",
    "npairs = 65\n",
    "\n",
    "xi_mean = []\n",
    "xi_err = []\n",
    "\n",
    "rho_avg = []\n",
    "sig_avg = []\n",
    "\n",
    "i = 0\n",
    "\n",
    "while i < len(xi_sorted):\n",
    "    \n",
    "    xi_mean.append(np.mean(xi_sorted[i:npairs+i]))\n",
    "    xi_err.append(np.std(xi_sorted[i:npairs+i]))\n",
    "\n",
    "    r, s = weightedavg(rho_sorted[i:npairs+i], sig_sorted[i:npairs+i])\n",
    "    rho_avg.append(r)\n",
    "    sig_avg.append(s)\n",
    "    \n",
    "    i += npairs\n",
    "    \n",
    "xi_mean = np.array(xi_mean)\n",
    "xi_err = np.array(xi_err)"
   ]
  },
  {
   "cell_type": "code",
   "execution_count": null,
   "metadata": {},
   "outputs": [],
   "source": [
    "def get_HD_curve(zeta):\n",
    "    \n",
    "    coszeta = np.cos(zeta*np.pi/180.)\n",
    "    xip = (1.-coszeta) / 2.\n",
    "    HD = 3.*( 1./3. + xip * ( np.log(xip) -1./6.) )\n",
    "    \n",
    "    return HD/2"
   ]
  },
  {
   "cell_type": "code",
   "execution_count": null,
   "metadata": {},
   "outputs": [],
   "source": [
    "(_, caps, _) = plt.errorbar(xi_mean*180/np.pi, rho_avg, xerr=xi_err*180/np.pi, yerr=sig_avg, marker='o', ls='', \n",
    "                            color='0.1', fmt='o', capsize=4, elinewidth=1.2)\n",
    "\n",
    "zeta = np.linspace(0.01,180,100)\n",
    "HD = get_HD_curve(zeta+1)\n",
    "\n",
    "plt.plot(zeta, OS*HD, ls='--', label='Hellings-Downs', color='C0', lw=1.5)\n",
    "plt.plot(zeta, zeta*0.0+OS_mono, ls='--', label='Monopole', color='C1', lw=1.5)\n",
    "plt.plot(zeta, OS_dip*np.cos(zeta*np.pi/180), ls='--', label='Dipole', color='C2', lw=1.5)\n",
    "\n",
    "plt.xlim(0, 180);\n",
    "#plt.ylim(-3.5e-29, 3.5e-29);\n",
    "plt.ylabel(r'$\\hat{A}^2 \\Gamma_{ab}(\\zeta)$')\n",
    "plt.xlabel(r'$\\zeta$ (deg)');\n",
    "\n",
    "plt.legend(loc=4);\n",
    "\n",
    "plt.tight_layout();\n",
    "plt.show();"
   ]
  },
  {
   "cell_type": "code",
   "execution_count": null,
   "metadata": {},
   "outputs": [],
   "source": [
    "def hd_orf(pos1, pos2, diag=1.):\n",
    "    \"\"\"Hellings & Downs spatial correlation function.\"\"\"\n",
    "    if np.all(np.isclose(pos1,pos2,rtol=1e-05, atol=1e-08)):\n",
    "        return diag\n",
    "    else:\n",
    "        omc2 = (1 - np.dot(pos1, pos2)) / 2\n",
    "        return 1.5 * omc2 * np.log(omc2) - 0.25 * omc2 + 0.5"
   ]
  },
  {
   "cell_type": "code",
   "execution_count": null,
   "metadata": {},
   "outputs": [],
   "source": [
    "zeta = np.linspace(0.01,180,100)\n",
    "HD = get_HD_curve(zeta+1)\n",
    "\n",
    "plt.plot(zeta, OS*HD, ls='--', label='Hellings-Downs', color='C0', lw=1.5)\n",
    "plt.plot(zeta, zeta*0.0+OS_mono, ls='--', label='Monopole', color='C1', lw=1.5)\n",
    "plt.plot(zeta, OS_dip*np.cos(zeta*np.pi/180), ls='--', label='Dipole', color='C2', lw=1.5)\n",
    "plt.xlim(0, 180);\n",
    "plt.ylim(-1.5e-29, 1.5e-29);\n",
    "plt.ylabel(r'$\\hat{A}^2 \\Gamma_{ab}(\\zeta)$')\n",
    "plt.xlabel(r'$\\zeta$ (deg)');"
   ]
  },
  {
   "cell_type": "code",
   "execution_count": null,
   "metadata": {},
   "outputs": [],
   "source": []
  }
 ],
 "metadata": {
  "kernelspec": {
   "display_name": "Python 3 (ipykernel)",
   "language": "python",
   "name": "python3"
  },
  "language_info": {
   "codemirror_mode": {
    "name": "ipython",
    "version": 3
   },
   "file_extension": ".py",
   "mimetype": "text/x-python",
   "name": "python",
   "nbconvert_exporter": "python",
   "pygments_lexer": "ipython3",
   "version": "3.9.16"
  }
 },
 "nbformat": 4,
 "nbformat_minor": 4
}
