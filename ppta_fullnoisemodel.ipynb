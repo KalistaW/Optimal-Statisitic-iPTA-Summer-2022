version https://git-lfs.github.com/spec/v1
oid sha256:b41dd8c5f4e45f4ee55979814d8c79a1c5462fb0d44055265b0b9d5d727ae9d9
size 58754
