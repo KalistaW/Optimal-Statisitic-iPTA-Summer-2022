version https://git-lfs.github.com/spec/v1
oid sha256:ccccfcf8533d6c344898ec8b542c68da9b10ea0bfa030bc3ef87756a81d7f427
size 89137
