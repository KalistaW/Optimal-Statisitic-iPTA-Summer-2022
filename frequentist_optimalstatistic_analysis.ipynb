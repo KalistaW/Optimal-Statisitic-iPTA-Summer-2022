version https://git-lfs.github.com/spec/v1
oid sha256:a0493dd997809a0286e102a253a06ebe5f86997aba90cc2566c680eeb13909a3
size 121598
