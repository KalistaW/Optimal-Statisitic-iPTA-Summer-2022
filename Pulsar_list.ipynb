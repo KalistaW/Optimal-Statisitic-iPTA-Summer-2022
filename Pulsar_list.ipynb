{
 "cells": [
  {
   "cell_type": "code",
   "execution_count": 33,
   "id": "1f7156a7",
   "metadata": {},
   "outputs": [],
   "source": [
    "import pickle"
   ]
  },
  {
   "cell_type": "code",
   "execution_count": 34,
   "id": "9d86e48f",
   "metadata": {},
   "outputs": [],
   "source": [
    "ng=['J1857+0943',\n",
    "'J1939+2134',\n",
    "'J1955+2908',\n",
    "'J0023+0923',\n",
    "'J0030+0451',\n",
    "'J0340+4130',\n",
    "'J0406+3039',\n",
    "'J0437-4715',\n",
    "'J0509+0856',\n",
    "'J0557+1551',\n",
    "'J0605+3757',\n",
    "'J0610-2100',\n",
    "'J0613-0200',\n",
    "'J0614-3329',\n",
    "'J0636+5128',\n",
    "'J0645+5158',\n",
    "'J0709+0458',\n",
    "'J0740+6620',\n",
    "'J0931-1902',\n",
    "'J1012-4235',\n",
    "'J1012+5307',\n",
    "'J1022+1001',\n",
    "'J1024-0719',\n",
    "'J1125+7819',\n",
    "'J1312+0051',\n",
    "'J1453+1902',\n",
    "'J1455-3330',\n",
    "'J1600-3053',\n",
    "'J1614-2230',\n",
    "'J1630+3734',\n",
    "'J1640+2224',\n",
    "'J1643-1224',\n",
    "'J1705-1903',\n",
    "'J1713+0747',\n",
    "'J1719-1438',\n",
    "'J1730-2304',\n",
    "'J1738+0333',\n",
    "'J1741+1351',\n",
    "'J1744-1134',\n",
    "'J1745+1017',\n",
    "'J1747-4036',\n",
    "'J1751-2857',\n",
    "'J1802-2124',\n",
    "'J1811-2405',\n",
    "'J1832-0836',\n",
    "'J1843-1113',\n",
    "'J1853+1303',\n",
    "'J1903+0327',\n",
    "'J1909-3744',\n",
    "'J1910+1256',\n",
    "'J1911+1347',\n",
    "'J1918-0642',\n",
    "'J1923+2515',\n",
    "'J1944+0907',\n",
    "'J1946+3417',\n",
    "'J2010-1323',\n",
    "'J2017+0603',\n",
    "'J2033+1734',\n",
    "'J2043+1711',\n",
    "'J2124-3358',\n",
    "'J2145-0750',\n",
    "'J2214+3000',\n",
    "'J2229+2643',\n",
    "'J2234+0611',\n",
    "'J2234+0944',\n",
    "'J2302+4442',\n",
    "'J2317+1439',\n",
    "'J2322+2057']"
   ]
  },
  {
   "cell_type": "code",
   "execution_count": 35,
   "id": "65b2f2aa",
   "metadata": {},
   "outputs": [
    {
     "data": {
      "text/plain": [
       "68"
      ]
     },
     "execution_count": 35,
     "metadata": {},
     "output_type": "execute_result"
    }
   ],
   "source": [
    "len(ng)"
   ]
  },
  {
   "cell_type": "code",
   "execution_count": 36,
   "id": "b448cc78",
   "metadata": {},
   "outputs": [],
   "source": [
    "ppta=['J0030+0451',\n",
    "'J0125-2327',\n",
    "'J0437-4715',\n",
    "'J0613-0200',\n",
    "'J0614-3329',\n",
    "'J0711-6830',\n",
    "'J1017-7156',\n",
    "'J1022+1001',\n",
    "'J1024-0719',\n",
    "'J1045-4509',\n",
    "'J1125-6014',\n",
    "'J1446-4701',\n",
    "'J1545-4550',\n",
    "'J1600-3053',\n",
    "'J1603-7202',\n",
    "'J1643-1224',\n",
    "'J1713+0747',\n",
    "'J1730-2304',\n",
    "'J1744-1134',\n",
    "'J1824-2452A',\n",
    "'J1832-0836',\n",
    "'J1857+0943',\n",
    "'J1909-3744',\n",
    "'J1933-6211',\n",
    "'J1939+2134',\n",
    "'J2124-3358',\n",
    "'J2129-5721',\n",
    "'J2145-0750',\n",
    "'J2241-5236']"
   ]
  },
  {
   "cell_type": "code",
   "execution_count": 37,
   "id": "723e6119",
   "metadata": {},
   "outputs": [
    {
     "data": {
      "text/plain": [
       "29"
      ]
     },
     "execution_count": 37,
     "metadata": {},
     "output_type": "execute_result"
    }
   ],
   "source": [
    "len(ppta)"
   ]
  },
  {
   "cell_type": "code",
   "execution_count": 38,
   "id": "177efaf2",
   "metadata": {},
   "outputs": [],
   "source": [
    "epta=['J0030+0451',\n",
    "'J0613-0200',\n",
    "'J0751+1807',\n",
    "'J0900-3144',\n",
    "'J1012+5307',\n",
    "'J1022+1001',\n",
    "'J1024-0719',\n",
    "'J1455-3330',\n",
    "'J1600-3053',\n",
    "'J1640+2224',\n",
    "'J1713+0747',\n",
    "'J1730-2304',\n",
    "'J1738+0333',\n",
    "'J1744-1134',\n",
    "'J1751-2857',\n",
    "'J1801-1417',\n",
    "'J1804-2717',\n",
    "'J1843-1113',\n",
    "'J1857+0943',\n",
    "'J1909-3744',\n",
    "'J1910+1256',\n",
    "'J1911+1347',\n",
    "'J1918-0642',\n",
    "'J2124-3358',\n",
    "'J2322+2057']"
   ]
  },
  {
   "cell_type": "code",
   "execution_count": 39,
   "id": "fffd4f12",
   "metadata": {},
   "outputs": [
    {
     "data": {
      "text/plain": [
       "25"
      ]
     },
     "execution_count": 39,
     "metadata": {},
     "output_type": "execute_result"
    }
   ],
   "source": [
    "len(epta)"
   ]
  },
  {
   "cell_type": "code",
   "execution_count": 40,
   "id": "0dca3f2f",
   "metadata": {},
   "outputs": [],
   "source": [
    "ptas=[ng,ppta,epta]"
   ]
  },
  {
   "cell_type": "code",
   "execution_count": 42,
   "id": "282481e1",
   "metadata": {},
   "outputs": [],
   "source": [
    "with open(\"/Users/kalistaw/Desktop/OS_2023_data/puslar_name_list\", \"wb\") as fp:   #Pickling\n",
    "    pickle.dump(ptas, fp)"
   ]
  },
  {
   "cell_type": "code",
   "execution_count": 58,
   "id": "39cb2d10",
   "metadata": {},
   "outputs": [
    {
     "name": "stdout",
     "output_type": "stream",
     "text": [
      "NG and PPTA Overlap: J1857+0943\n",
      "NG and PPTA Overlap: J1939+2134\n",
      "NG and PPTA Overlap: J0030+0451\n",
      "NG and PPTA Overlap: J0437-4715\n",
      "NG and PPTA Overlap: J0613-0200\n",
      "NG and PPTA Overlap: J0614-3329\n",
      "NG and PPTA Overlap: J1022+1001\n",
      "NG and PPTA Overlap: J1024-0719\n",
      "NG and PPTA Overlap: J1600-3053\n",
      "NG and PPTA Overlap: J1643-1224\n",
      "NG and PPTA Overlap: J1713+0747\n",
      "NG and PPTA Overlap: J1730-2304\n",
      "NG and PPTA Overlap: J1744-1134\n",
      "NG and PPTA Overlap: J1832-0836\n",
      "NG and PPTA Overlap: J1909-3744\n",
      "NG and PPTA Overlap: J2124-3358\n",
      "NG and PPTA Overlap: J2145-0750\n",
      "17\n"
     ]
    }
   ],
   "source": [
    "counterng_ppta=0\n",
    "for p in ng:\n",
    "    if p in ppta:\n",
    "        print(\"NG and PPTA Overlap:\", p)\n",
    "        counterng_ppta+=1\n",
    "print(counterng_ppta)"
   ]
  },
  {
   "cell_type": "code",
   "execution_count": 59,
   "id": "79cb6177",
   "metadata": {},
   "outputs": [
    {
     "name": "stdout",
     "output_type": "stream",
     "text": [
      "NG and EPTA Overlap: J1857+0943\n",
      "NG and EPTA Overlap: J0030+0451\n",
      "NG and EPTA Overlap: J0613-0200\n",
      "NG and EPTA Overlap: J1012+5307\n",
      "NG and EPTA Overlap: J1022+1001\n",
      "NG and EPTA Overlap: J1024-0719\n",
      "NG and EPTA Overlap: J1455-3330\n",
      "NG and EPTA Overlap: J1600-3053\n",
      "NG and EPTA Overlap: J1640+2224\n",
      "NG and EPTA Overlap: J1713+0747\n",
      "NG and EPTA Overlap: J1730-2304\n",
      "NG and EPTA Overlap: J1738+0333\n",
      "NG and EPTA Overlap: J1744-1134\n",
      "NG and EPTA Overlap: J1751-2857\n",
      "NG and EPTA Overlap: J1843-1113\n",
      "NG and EPTA Overlap: J1909-3744\n",
      "NG and EPTA Overlap: J1910+1256\n",
      "NG and EPTA Overlap: J1911+1347\n",
      "NG and EPTA Overlap: J1918-0642\n",
      "NG and EPTA Overlap: J2124-3358\n",
      "NG and EPTA Overlap: J2322+2057\n",
      "21\n"
     ]
    }
   ],
   "source": [
    "counterng_epta=0\n",
    "for p in ng:\n",
    "    if p in epta:\n",
    "        print(\"NG and EPTA Overlap:\", p)\n",
    "        counterng_epta+=1\n",
    "print(counterng_epta)"
   ]
  },
  {
   "cell_type": "code",
   "execution_count": 60,
   "id": "a6dff024",
   "metadata": {},
   "outputs": [
    {
     "name": "stdout",
     "output_type": "stream",
     "text": [
      "EPTA and PPTA Overlap: J0030+0451\n",
      "EPTA and PPTA Overlap: J0613-0200\n",
      "EPTA and PPTA Overlap: J1022+1001\n",
      "EPTA and PPTA Overlap: J1024-0719\n",
      "EPTA and PPTA Overlap: J1600-3053\n",
      "EPTA and PPTA Overlap: J1713+0747\n",
      "EPTA and PPTA Overlap: J1730-2304\n",
      "EPTA and PPTA Overlap: J1744-1134\n",
      "EPTA and PPTA Overlap: J1857+0943\n",
      "EPTA and PPTA Overlap: J1909-3744\n",
      "EPTA and PPTA Overlap: J2124-3358\n",
      "11\n"
     ]
    }
   ],
   "source": [
    "counterepta_ppta=0\n",
    "for p in epta:\n",
    "    if p in ppta:\n",
    "        counterepta_ppta+=1\n",
    "        print(\"EPTA and PPTA Overlap:\", p)\n",
    "print(counterepta_ppta)"
   ]
  },
  {
   "cell_type": "code",
   "execution_count": 61,
   "id": "5353804f",
   "metadata": {},
   "outputs": [
    {
     "name": "stdout",
     "output_type": "stream",
     "text": [
      "Overlap in all three J1857+0943\n",
      "Overlap in all three J0030+0451\n",
      "Overlap in all three J0613-0200\n",
      "Overlap in all three J1022+1001\n",
      "Overlap in all three J1024-0719\n",
      "Overlap in all three J1600-3053\n",
      "Overlap in all three J1713+0747\n",
      "Overlap in all three J1730-2304\n",
      "Overlap in all three J1744-1134\n",
      "Overlap in all three J1909-3744\n",
      "Overlap in all three J2124-3358\n",
      "11\n"
     ]
    }
   ],
   "source": [
    "counterall=0\n",
    "for p in ng: \n",
    "    if p in ppta:\n",
    "        if p in epta:\n",
    "            counterall+=1\n",
    "            print(\"Overlap in all three\",p)\n",
    "print(counterall)"
   ]
  },
  {
   "cell_type": "code",
   "execution_count": 64,
   "id": "76c5445e",
   "metadata": {},
   "outputs": [
    {
     "data": {
      "text/plain": [
       "6"
      ]
     },
     "execution_count": 64,
     "metadata": {},
     "output_type": "execute_result"
    }
   ],
   "source": [
    "counterng_ppta-counterall"
   ]
  },
  {
   "cell_type": "code",
   "execution_count": 63,
   "id": "d2c03c19",
   "metadata": {},
   "outputs": [
    {
     "data": {
      "text/plain": [
       "10"
      ]
     },
     "execution_count": 63,
     "metadata": {},
     "output_type": "execute_result"
    }
   ],
   "source": [
    "counterng_epta-counterall"
   ]
  },
  {
   "cell_type": "code",
   "execution_count": 65,
   "id": "ac70b01e",
   "metadata": {},
   "outputs": [
    {
     "data": {
      "text/plain": [
       "0"
      ]
     },
     "execution_count": 65,
     "metadata": {},
     "output_type": "execute_result"
    }
   ],
   "source": [
    "counterepta_ppta-counterall"
   ]
  },
  {
   "cell_type": "code",
   "execution_count": null,
   "id": "ba4801cf",
   "metadata": {},
   "outputs": [],
   "source": []
  }
 ],
 "metadata": {
  "kernelspec": {
   "display_name": "Python 3 (ipykernel)",
   "language": "python",
   "name": "python3"
  },
  "language_info": {
   "codemirror_mode": {
    "name": "ipython",
    "version": 3
   },
   "file_extension": ".py",
   "mimetype": "text/x-python",
   "name": "python",
   "nbconvert_exporter": "python",
   "pygments_lexer": "ipython3",
   "version": "3.9.16"
  }
 },
 "nbformat": 4,
 "nbformat_minor": 5
}
