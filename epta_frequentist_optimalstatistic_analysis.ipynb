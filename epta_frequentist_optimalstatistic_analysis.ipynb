version https://git-lfs.github.com/spec/v1
oid sha256:fb00cf76180b58a96c423bcee164b8e7e491ce05ee5656b2808ebeddd949ddf5
size 29635
