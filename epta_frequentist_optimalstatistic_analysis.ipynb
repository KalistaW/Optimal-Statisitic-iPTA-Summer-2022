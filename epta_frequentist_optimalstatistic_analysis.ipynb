version https://git-lfs.github.com/spec/v1
oid sha256:2f685b489dc938fbd87e4584ecf0fc76fe2a0b8d4baf74b28b147519fbf704b4
size 57023
