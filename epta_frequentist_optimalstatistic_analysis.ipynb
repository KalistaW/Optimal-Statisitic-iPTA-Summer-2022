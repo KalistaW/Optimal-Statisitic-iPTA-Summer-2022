version https://git-lfs.github.com/spec/v1
oid sha256:9282bce5de6986493bd9f6aef6871479f1bd3ec19e72a94fb81f88d506c83c7e
size 25734
