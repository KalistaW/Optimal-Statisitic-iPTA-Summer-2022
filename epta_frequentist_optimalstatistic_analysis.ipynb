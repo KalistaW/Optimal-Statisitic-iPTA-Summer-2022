version https://git-lfs.github.com/spec/v1
oid sha256:67241cd637a3656dd21fabe1e3d8b3aecd3bc714b998682cf6991f8252e6d422
size 59727
