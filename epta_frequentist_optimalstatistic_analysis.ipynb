version https://git-lfs.github.com/spec/v1
oid sha256:e43bba4b1896f7c09b7510b32c65d0bbd761d206da115c4eb0de57539e32c632
size 25689
