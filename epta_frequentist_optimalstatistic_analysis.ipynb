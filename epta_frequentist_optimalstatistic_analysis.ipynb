version https://git-lfs.github.com/spec/v1
oid sha256:80f393a514d6ec0d655a02f31e650e90c3998c61ff9964b432ad549ed5debf60
size 78478
