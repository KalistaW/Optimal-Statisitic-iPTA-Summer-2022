version https://git-lfs.github.com/spec/v1
oid sha256:d6dd56204d4f958cffea2241017027ccc7eb3fc8271c861e5095f13c66036d24
size 61049
