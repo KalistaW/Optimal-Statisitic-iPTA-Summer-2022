{
 "cells": [
  {
   "cell_type": "code",
   "execution_count": 1,
   "id": "b301633f",
   "metadata": {},
   "outputs": [
    {
     "name": "stdout",
     "output_type": "stream",
     "text": [
      "Warning: cannot find astropy, units support will not be available.\n"
     ]
    },
    {
     "name": "stderr",
     "output_type": "stream",
     "text": [
      "usage: ipykernel_launcher.py [-h] [--core_path CORE_PATH]\n",
      "                             [--aux_core AUX_CORE] [--chain_dir CHAIN_DIR]\n",
      "                             [--pta_path PTA_PATH] [--nsamps NSAMPS]\n",
      "                             [--model_core MODEL_CORE] [--pta_index PTA_INDEX]\n",
      "                             [--proc PROC] [--outdir OUTDIR]\n",
      "                             [--save_as SAVE_AS]\n",
      "ipykernel_launcher.py: error: unrecognized arguments: -f /Users/kalistaw/Library/Jupyter/runtime/kernel-e609cc5b-f81f-4453-bbcf-f369d03afa62.json\n"
     ]
    },
    {
     "ename": "SystemExit",
     "evalue": "2",
     "output_type": "error",
     "traceback": [
      "An exception has occurred, use %tb to see the full traceback.\n",
      "\u001b[0;31mSystemExit\u001b[0m\u001b[0;31m:\u001b[0m 2\n"
     ]
    },
    {
     "name": "stderr",
     "output_type": "stream",
     "text": [
      "/Users/anaconda3/envs/nanogw2/lib/python3.9/site-packages/IPython/core/interactiveshell.py:3516: UserWarning: To exit: use 'exit', 'quit', or Ctrl-D.\n"
     ]
    }
   ],
   "source": [
    "from __future__ import (absolute_import, division,\n",
    "                        print_function, unicode_literals)\n",
    "import numpy as np\n",
    "import pickle\n",
    "import json\n",
    "import glob\n",
    "import os\n",
    "\n",
    "import matplotlib.pyplot as plt\n",
    "%matplotlib inline\n",
    "\n",
    "from enterprise.signals import signal_base\n",
    "from enterprise.signals import gp_signals, parameter\n",
    "from enterprise.pulsar import Pulsar\n",
    "from enterprise_extensions.chromatic.solar_wind import solar_wind_block\n",
    "from enterprise_extensions.chromatic import dm_exponential_dip\n",
    "\n",
    "from enterprise_extensions import model_utils, blocks\n",
    "from enterprise_extensions.frequentist import optimal_statistic as opt_stat\n",
    "\n",
    "import h5py\n",
    "\n",
    "import la_forge.core as co"
   ]
  },
  {
   "cell_type": "code",
   "execution_count": null,
   "id": "58571b7f",
   "metadata": {},
   "outputs": [],
   "source": [
    "%run resampler.py "
   ]
  }
 ],
 "metadata": {
  "kernelspec": {
   "display_name": "Python 3 (ipykernel)",
   "language": "python",
   "name": "python3"
  },
  "language_info": {
   "codemirror_mode": {
    "name": "ipython",
    "version": 3
   },
   "file_extension": ".py",
   "mimetype": "text/x-python",
   "name": "python",
   "nbconvert_exporter": "python",
   "pygments_lexer": "ipython3",
   "version": "3.9.16"
  }
 },
 "nbformat": 4,
 "nbformat_minor": 5
}
