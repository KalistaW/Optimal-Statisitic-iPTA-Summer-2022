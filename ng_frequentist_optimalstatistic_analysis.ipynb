version https://git-lfs.github.com/spec/v1
oid sha256:b8c824155e02e070ab277e03cefa653d1c37c9266a7bf2a5ddba18114042e1ec
size 139145
