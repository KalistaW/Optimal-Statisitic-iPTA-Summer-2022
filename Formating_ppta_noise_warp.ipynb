version https://git-lfs.github.com/spec/v1
oid sha256:5e5c50b14841a3b6dc916d975e8dde4abb48283ff63c8c258a23f2d56ae99b00
size 49670
